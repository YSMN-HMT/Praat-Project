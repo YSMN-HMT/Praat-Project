{
 "cells": [
  {
   "cell_type": "code",
   "execution_count": null,
   "id": "d494f12d-2598-46cf-a77c-c079fa8d2d13",
   "metadata": {},
   "outputs": [],
   "source": [
    "import pandas as pd\n",
    "import os\n",
    "import subprocess\n",
    "\n",
    "praat_path = r\".exe\" \n",
    "\n",
    "# Directory containing audio and TextGrid files\n",
    "data_dir = r\" \"\n",
    "\n",
    "praat_script = r\".praat\"\n",
    "\n",
    "excel_file = r\"manID.xlsx\"  \n",
    "\n",
    "# Read IDs from Excel column\n",
    "ids_df = pd.read_excel(excel_file, header=None, names=['ID'])"
   ]
  },
  {
   "cell_type": "code",
   "execution_count": null,
   "id": "a9abc77d-433a-4cad-a954-52ad38571128",
   "metadata": {},
   "outputs": [],
   "source": [
    "import os\n",
    "import re\n",
    "import pandas as pd\n",
    "import subprocess\n",
    "\n",
    "# Initialize DataFrame for results\n",
    "results_f1_df = pd.DataFrame(columns=['ID', 'loudness'])\n",
    "\n",
    "def clean_illegal_characters(s):\n",
    "    \"\"\"Remove illegal characters from a string.\"\"\"\n",
    "    return re.sub(r'[\\x00-\\x1F\\x7F]', '', s)\n",
    "\n",
    "# Assuming ids_df is defined and contains the 'ID' column with relevant IDs\n",
    "for id in ids_df['ID']:\n",
    "    audio_paths = []\n",
    "    textgrid_paths = []\n",
    "\n",
    "    # Iterate over files in the directory\n",
    "    for filename in os.listdir(data_dir):\n",
    "        if filename.startswith(id) and filename.endswith(\".wav\"):\n",
    "            audio_paths.append(os.path.join(data_dir, filename))\n",
    "        elif filename.startswith(id) and filename.endswith(\".TextGrid\"):\n",
    "            textgrid_paths.append(os.path.join(data_dir, filename))\n",
    "\n",
    "    # Process all versions of the ID\n",
    "    for audio_path, textgrid_path in zip(audio_paths, textgrid_paths):\n",
    "        result = subprocess.run([praat_path, praat_script, audio_path, textgrid_path], capture_output=True, text=True)\n",
    "        clean_result = clean_illegal_characters(result.stdout.strip())\n",
    "\n",
    "        f1_match = re.search(r'L: (\\d+\\.?\\d*)', clean_result)\n",
    "        if f1_match:\n",
    "            f1_value = float(f1_match.group(1))\n",
    "            # Append to DataFrame\n",
    "            results_f1_df = pd.concat([results_f1_df, pd.DataFrame([{'ID': id, 'loudness': f1_value}])], ignore_index=True)\n",
    "\n",
    "# Save results to CSV\n",
    "\n",
    "results_f1_df.to_csv(\"loudness.csv\", index=False)\n",
    "    "
   ]
  }
 ],
 "metadata": {
  "kernelspec": {
   "display_name": "Python 3 (ipykernel)",
   "language": "python",
   "name": "python3"
  },
  "language_info": {
   "codemirror_mode": {
    "name": "ipython",
    "version": 3
   },
   "file_extension": ".py",
   "mimetype": "text/x-python",
   "name": "python",
   "nbconvert_exporter": "python",
   "pygments_lexer": "ipython3",
   "version": "3.11.7"
  }
 },
 "nbformat": 4,
 "nbformat_minor": 5
}
