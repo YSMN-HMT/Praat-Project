{
 "cells": [
  {
   "cell_type": "code",
   "execution_count": null,
   "id": "ea4c482a-5412-4658-98de-f4d76cc0213c",
   "metadata": {},
   "outputs": [],
   "source": [
    "import pandas as pd\n",
    "\n",
    "# Load the interested Patients IDs file\n",
    "interested_ids_df = pd.read_csv('MP_IDs.csv')\n",
    "\n",
    "# Load the file with IDs and visit details\n",
    "visit_details_df = pd.read_csv('liste_participants.csv')\n",
    "\n",
    "# Merge the dataframes based on the ID column\n",
    "merged_df = pd.merge(interested_ids_df, visit_details_df, on='ID', how='inner')\n"
   ]
  },
  {
   "cell_type": "code",
   "execution_count": null,
   "id": "6e01ba5c-3221-436f-85bb-33652e8df81f",
   "metadata": {},
   "outputs": [],
   "source": [
    "def summarize_participation(row):\n",
    "    visits = []\n",
    "    if row['V0 pro'] >= 0.5:\n",
    "        visits.append('0')\n",
    "    if row['V1 pro'] >= 0.5:\n",
    "        visits.append('1')\n",
    "    if row['V2 pro'] >= 0.5:\n",
    "        visits.append('2')\n",
    "    if row['V3 pro'] >= 0.5:\n",
    "        visits.append('3')\n",
    "    if row['V4 pro'] >= 0.5:\n",
    "        visits.append('4')\n",
    "    return ', '.join(visits) if visits else 'None'\n"
   ]
  },
  {
   "cell_type": "code",
   "execution_count": null,
   "id": "6196173a-c331-4658-962e-66aa9d485dd9",
   "metadata": {},
   "outputs": [],
   "source": [
    "# Extract visit participation columns\n",
    "merged_df['Visits'] = merged_df.apply(summarize_participation, axis=1)\n",
    "\n",
    "# Select relevant columns to display\n",
    "result_df = merged_df[['ID', 'Visits']]\n",
    "\n",
    "# Print the resulting dataframe\n",
    "print(result_df)\n",
    "result_df.to_csv('output.csv', index=False)"
   ]
  },
  {
   "cell_type": "code",
   "execution_count": null,
   "id": "c64ef0c9-ffed-4b1c-a44e-e5363fdb7fd3",
   "metadata": {},
   "outputs": [],
   "source": [
    "def parse_visits(visits):\n",
    "    if pd.isna(visits):  # Check for NaN values\n",
    "        return []\n",
    "    if isinstance(visits, float):  # Handle unexpected float values\n",
    "        return []\n",
    "    if isinstance(visits, int):  # Handle single integer values\n",
    "        return [visits]\n",
    "    if isinstance(visits, str):  # Handle string values\n",
    "        return [int(visit.strip()) for visit in visits.split(',')]\n",
    "    return []  # Return an empty list for any other unexpected type\n"
   ]
  },
  {
   "cell_type": "code",
   "execution_count": null,
   "id": "d91cb08b-a943-4ea3-9389-9b2b3403639a",
   "metadata": {},
   "outputs": [],
   "source": [
    "# Initialize an empty dataframe to collect all results\n",
    "for index, row in ids_and_visits_df.iterrows():\n",
    "    id_to_search = row['ID']\n",
    "    visits_to_keep =  parse_visits(row['Visits']) # Convert the string list to an actual list\n",
    "    \n",
    "    # Filter the main data dataframe for the specific ID\n",
    "    filtered_df = main_data_df[main_data_df['ID'] == id_to_search]\n",
    "    \n",
    "    # Ensure visits_to_keep is a list of integers\n",
    "    temp_filtered_list = []\n",
    "    \n",
    "    # Keep only the specified rows for this ID using iloc (subtract 1 from visit numbers for zero-based indexing)\n",
    "    for visit in visits_to_keep:\n",
    "        if 0 <= visit-1 < len(filtered_df):\n",
    "            temp_row = filtered_df.iloc[visit-1].copy()\n",
    "            temp_row['visits'] = visit  # Add the visit number to the row\n",
    "            temp_filtered_list.append(temp_row)\n",
    "    \n",
    "    # Convert the list of rows to a dataframe\n",
    "    temp_filtered_df = pd.DataFrame(temp_filtered_list)\n",
    "    \n",
    "    # Append the result to the all_filtered_data_df\n",
    "    all_filtered_data_df = pd.concat([all_filtered_data_df, temp_filtered_df], ignore_index=True)\n",
    "\n",
    "# Reset index for the final dataframe\n",
    "all_filtered_data_df.reset_index(drop=True, inplace=True)\n",
    "\n",
    "# Print the resulting dataframe\n",
    "print(all_filtered_data_df)\n",
    "\n",
    "# Optionally, save the result to a new CSV file\n",
    "all_filtered_data_df.to_csv('subject_visits2.csv', index=False)\n"
   ]
  }
 ],
 "metadata": {
  "kernelspec": {
   "display_name": "Python 3 (ipykernel)",
   "language": "python",
   "name": "python3"
  },
  "language_info": {
   "codemirror_mode": {
    "name": "ipython",
    "version": 3
   },
   "file_extension": ".py",
   "mimetype": "text/x-python",
   "name": "python",
   "nbconvert_exporter": "python",
   "pygments_lexer": "ipython3",
   "version": "3.11.7"
  }
 },
 "nbformat": 4,
 "nbformat_minor": 5
}
